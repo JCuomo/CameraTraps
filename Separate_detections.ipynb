{
  "cells": [
    {
      "cell_type": "markdown",
      "metadata": {
        "id": "view-in-github",
        "colab_type": "text"
      },
      "source": [
        "<a href=\"https://colab.research.google.com/github/JCuomo/CameraTraps/blob/main/Separate_detections.ipynb\" target=\"_parent\"><img src=\"https://colab.research.google.com/assets/colab-badge.svg\" alt=\"Open In Colab\"/></a>"
      ]
    },
    {
      "cell_type": "markdown",
      "source": [
        "## 1 Set up the Colab instance to run on a GPU accelerator\n",
        "\n",
        "\n",
        "Navigate to Edit→Notebook Settings and select \"GPU\" from the \"Hardware accelerator\" drop-down menu."
      ],
      "metadata": {
        "id": "EsRoL477hHka"
      }
    },
    {
      "cell_type": "markdown",
      "metadata": {
        "id": "JyjEgkCsOsak"
      },
      "source": [
        "## 2 Mount Google Drive in Colab"
      ]
    },
    {
      "cell_type": "code",
      "execution_count": 1,
      "metadata": {
        "id": "XYsrTTR7eF0r",
        "colab": {
          "base_uri": "https://localhost:8080/"
        },
        "outputId": "60e2dde2-b355-449c-f982-e451b25a06d2"
      },
      "outputs": [
        {
          "output_type": "stream",
          "name": "stdout",
          "text": [
            "Mounted at /content/drive\n"
          ]
        }
      ],
      "source": [
        "from google.colab import drive\n",
        "drive.mount('/content/drive', force_remount=True)"
      ]
    },
    {
      "cell_type": "markdown",
      "source": [
        "# 3 Configurable Parameters"
      ],
      "metadata": {
        "id": "pXDjeTc1WScq"
      }
    },
    {
      "cell_type": "code",
      "source": [
        "# Choose where the images are\n",
        "images_dir = '/content/drive/MyDrive/Camaras Aspen/sample'\n",
        "# Choose a location for the output JSON file\n",
        "output_file_path = '/content/drive/MyDrive/Camaras Aspen/sample/sample.json'\n",
        "# Select a threshold for the detection\n",
        "confidence_threshold = 0.2"
      ],
      "metadata": {
        "id": "zzzP8uuQWZdP"
      },
      "execution_count": 2,
      "outputs": []
    },
    {
      "cell_type": "markdown",
      "metadata": {
        "id": "9aUlxnm7cnWy"
      },
      "source": [
        "## 4 Run all\n",
        "Run all below cells (Ctrl+F10)\n"
      ]
    },
    {
      "cell_type": "code",
      "execution_count": 3,
      "metadata": {
        "id": "EMEkgpy6T0pr",
        "colab": {
          "base_uri": "https://localhost:8080/"
        },
        "outputId": "ceacc63e-bc1b-4ed9-d8e1-86bc9ffba43f"
      },
      "outputs": [
        {
          "output_type": "stream",
          "name": "stdout",
          "text": [
            "Requirement already satisfied: humanfriendly in /usr/local/lib/python3.10/dist-packages (10.0)\n",
            "Requirement already satisfied: jsonpickle in /usr/local/lib/python3.10/dist-packages (3.0.1)\n",
            "Requirement already satisfied: ultralytics in /usr/local/lib/python3.10/dist-packages (8.0.132)\n",
            "Requirement already satisfied: matplotlib>=3.2.2 in /usr/local/lib/python3.10/dist-packages (from ultralytics) (3.7.1)\n",
            "Requirement already satisfied: opencv-python>=4.6.0 in /usr/local/lib/python3.10/dist-packages (from ultralytics) (4.7.0.72)\n",
            "Requirement already satisfied: Pillow>=7.1.2 in /usr/local/lib/python3.10/dist-packages (from ultralytics) (8.4.0)\n",
            "Requirement already satisfied: PyYAML>=5.3.1 in /usr/local/lib/python3.10/dist-packages (from ultralytics) (6.0)\n",
            "Requirement already satisfied: requests>=2.23.0 in /usr/local/lib/python3.10/dist-packages (from ultralytics) (2.27.1)\n",
            "Requirement already satisfied: scipy>=1.4.1 in /usr/local/lib/python3.10/dist-packages (from ultralytics) (1.10.1)\n",
            "Requirement already satisfied: torch>=1.7.0 in /usr/local/lib/python3.10/dist-packages (from ultralytics) (2.0.1+cu118)\n",
            "Requirement already satisfied: torchvision>=0.8.1 in /usr/local/lib/python3.10/dist-packages (from ultralytics) (0.15.2+cu118)\n",
            "Requirement already satisfied: tqdm>=4.64.0 in /usr/local/lib/python3.10/dist-packages (from ultralytics) (4.65.0)\n",
            "Requirement already satisfied: pandas>=1.1.4 in /usr/local/lib/python3.10/dist-packages (from ultralytics) (1.5.3)\n",
            "Requirement already satisfied: seaborn>=0.11.0 in /usr/local/lib/python3.10/dist-packages (from ultralytics) (0.12.2)\n",
            "Requirement already satisfied: psutil in /usr/local/lib/python3.10/dist-packages (from ultralytics) (5.9.5)\n",
            "Requirement already satisfied: contourpy>=1.0.1 in /usr/local/lib/python3.10/dist-packages (from matplotlib>=3.2.2->ultralytics) (1.1.0)\n",
            "Requirement already satisfied: cycler>=0.10 in /usr/local/lib/python3.10/dist-packages (from matplotlib>=3.2.2->ultralytics) (0.11.0)\n",
            "Requirement already satisfied: fonttools>=4.22.0 in /usr/local/lib/python3.10/dist-packages (from matplotlib>=3.2.2->ultralytics) (4.40.0)\n",
            "Requirement already satisfied: kiwisolver>=1.0.1 in /usr/local/lib/python3.10/dist-packages (from matplotlib>=3.2.2->ultralytics) (1.4.4)\n",
            "Requirement already satisfied: numpy>=1.20 in /usr/local/lib/python3.10/dist-packages (from matplotlib>=3.2.2->ultralytics) (1.22.4)\n",
            "Requirement already satisfied: packaging>=20.0 in /usr/local/lib/python3.10/dist-packages (from matplotlib>=3.2.2->ultralytics) (23.1)\n",
            "Requirement already satisfied: pyparsing>=2.3.1 in /usr/local/lib/python3.10/dist-packages (from matplotlib>=3.2.2->ultralytics) (3.1.0)\n",
            "Requirement already satisfied: python-dateutil>=2.7 in /usr/local/lib/python3.10/dist-packages (from matplotlib>=3.2.2->ultralytics) (2.8.2)\n",
            "Requirement already satisfied: pytz>=2020.1 in /usr/local/lib/python3.10/dist-packages (from pandas>=1.1.4->ultralytics) (2022.7.1)\n",
            "Requirement already satisfied: urllib3<1.27,>=1.21.1 in /usr/local/lib/python3.10/dist-packages (from requests>=2.23.0->ultralytics) (1.26.16)\n",
            "Requirement already satisfied: certifi>=2017.4.17 in /usr/local/lib/python3.10/dist-packages (from requests>=2.23.0->ultralytics) (2023.5.7)\n",
            "Requirement already satisfied: charset-normalizer~=2.0.0 in /usr/local/lib/python3.10/dist-packages (from requests>=2.23.0->ultralytics) (2.0.12)\n",
            "Requirement already satisfied: idna<4,>=2.5 in /usr/local/lib/python3.10/dist-packages (from requests>=2.23.0->ultralytics) (3.4)\n",
            "Requirement already satisfied: filelock in /usr/local/lib/python3.10/dist-packages (from torch>=1.7.0->ultralytics) (3.12.2)\n",
            "Requirement already satisfied: typing-extensions in /usr/local/lib/python3.10/dist-packages (from torch>=1.7.0->ultralytics) (4.6.3)\n",
            "Requirement already satisfied: sympy in /usr/local/lib/python3.10/dist-packages (from torch>=1.7.0->ultralytics) (1.11.1)\n",
            "Requirement already satisfied: networkx in /usr/local/lib/python3.10/dist-packages (from torch>=1.7.0->ultralytics) (3.1)\n",
            "Requirement already satisfied: jinja2 in /usr/local/lib/python3.10/dist-packages (from torch>=1.7.0->ultralytics) (3.1.2)\n",
            "Requirement already satisfied: triton==2.0.0 in /usr/local/lib/python3.10/dist-packages (from torch>=1.7.0->ultralytics) (2.0.0)\n",
            "Requirement already satisfied: cmake in /usr/local/lib/python3.10/dist-packages (from triton==2.0.0->torch>=1.7.0->ultralytics) (3.25.2)\n",
            "Requirement already satisfied: lit in /usr/local/lib/python3.10/dist-packages (from triton==2.0.0->torch>=1.7.0->ultralytics) (16.0.6)\n",
            "Requirement already satisfied: six>=1.5 in /usr/local/lib/python3.10/dist-packages (from python-dateutil>=2.7->matplotlib>=3.2.2->ultralytics) (1.16.0)\n",
            "Requirement already satisfied: MarkupSafe>=2.0 in /usr/local/lib/python3.10/dist-packages (from jinja2->torch>=1.7.0->ultralytics) (2.1.3)\n",
            "Requirement already satisfied: mpmath>=0.19 in /usr/local/lib/python3.10/dist-packages (from sympy->torch>=1.7.0->ultralytics) (1.3.0)\n"
          ]
        }
      ],
      "source": [
        "pip install humanfriendly jsonpickle ultralytics"
      ]
    },
    {
      "cell_type": "markdown",
      "source": [
        "### Download the MegaDetector model files"
      ],
      "metadata": {
        "id": "DAH_itRPh5o0"
      }
    },
    {
      "cell_type": "code",
      "execution_count": 4,
      "metadata": {
        "id": "s5uwmpmaTZMX",
        "colab": {
          "base_uri": "https://localhost:8080/"
        },
        "outputId": "fd0b1ed4-a1f7-4221-ac5e-76cf1f95fdbd"
      },
      "outputs": [
        {
          "output_type": "stream",
          "name": "stdout",
          "text": [
            "--2023-07-11 01:17:49--  https://lila.science/public/md_rebuild/md_v5a.0.0_rebuild_pt-1.12_zerolr.pt\n",
            "Resolving lila.science (lila.science)... 20.83.252.133\n",
            "Connecting to lila.science (lila.science)|20.83.252.133|:443... connected.\n",
            "HTTP request sent, awaiting response... 200 OK\n",
            "Length: 281461925 (268M)\n",
            "Saving to: ‘/content/md_v5a.0.0.pt’\n",
            "\n",
            "/content/md_v5a.0.0 100%[===================>] 268.42M  35.9MB/s    in 8.1s    \n",
            "\n",
            "2023-07-11 01:17:57 (33.2 MB/s) - ‘/content/md_v5a.0.0.pt’ saved [281461925/281461925]\n",
            "\n",
            "--2023-07-11 01:17:57--  https://lila.science/public/md_rebuild/md_v5b.0.0_rebuild_pt-1.12_zerolr.pt\n",
            "Resolving lila.science (lila.science)... 20.83.252.133\n",
            "Connecting to lila.science (lila.science)|20.83.252.133|:443... connected.\n",
            "HTTP request sent, awaiting response... 200 OK\n",
            "Length: 281461925 (268M)\n",
            "Saving to: ‘/content/md_v5b.0.0.pt’\n",
            "\n",
            "/content/md_v5b.0.0 100%[===================>] 268.42M  38.2MB/s    in 7.6s    \n",
            "\n",
            "2023-07-11 01:18:05 (35.5 MB/s) - ‘/content/md_v5b.0.0.pt’ saved [281461925/281461925]\n",
            "\n"
          ]
        }
      ],
      "source": [
        "!wget -O /content/md_v5a.0.0.pt https://lila.science/public/md_rebuild/md_v5a.0.0_rebuild_pt-1.12_zerolr.pt\n",
        "!wget -O /content/md_v5b.0.0.pt https://lila.science/public/md_rebuild/md_v5b.0.0_rebuild_pt-1.12_zerolr.pt"
      ]
    },
    {
      "cell_type": "code",
      "execution_count": 5,
      "metadata": {
        "id": "7qhltAaRSe1W",
        "colab": {
          "base_uri": "https://localhost:8080/"
        },
        "outputId": "35143a41-ae0c-4b5b-b6c9-ee8e443107db"
      },
      "outputs": [
        {
          "output_type": "stream",
          "name": "stdout",
          "text": [
            "Cloning into '/content/MegaDetector'...\n",
            "remote: Enumerating objects: 16389, done.\u001b[K\n",
            "remote: Counting objects: 100% (1235/1235), done.\u001b[K\n",
            "remote: Compressing objects: 100% (586/586), done.\u001b[K\n",
            "remote: Total 16389 (delta 711), reused 1147 (delta 647), pack-reused 15154\u001b[K\n",
            "Receiving objects: 100% (16389/16389), 181.55 MiB | 28.24 MiB/s, done.\n",
            "Resolving deltas: 100% (9907/9907), done.\n",
            "Updating files: 100% (865/865), done.\n",
            "Cloning into '/content/yolov5'...\n",
            "remote: Enumerating objects: 15814, done.\u001b[K\n",
            "remote: Counting objects: 100% (46/46), done.\u001b[K\n",
            "remote: Compressing objects: 100% (44/44), done.\u001b[K\n",
            "remote: Total 15814 (delta 9), reused 23 (delta 2), pack-reused 15768\u001b[K\n",
            "Receiving objects: 100% (15814/15814), 14.64 MiB | 19.39 MiB/s, done.\n",
            "Resolving deltas: 100% (10821/10821), done.\n"
          ]
        }
      ],
      "source": [
        "!rm -rf /content/MegaDetector\n",
        "!rm -rf /content/yolov5\n",
        "!git clone https://github.com/agentmorris/MegaDetector /content/MegaDetector\n",
        "!git clone https://github.com/ultralytics/yolov5 /content/yolov5"
      ]
    },
    {
      "cell_type": "markdown",
      "metadata": {
        "id": "2pzfM5Y-iby1"
      },
      "source": [
        "### Set `PYTHONPATH` to include `MegaDetector` and `yolov5`\n",
        "\n",
        "Add cloned git folders to the `PYTHONPATH` environment variable so that we can import their modules from any working directory.\n"
      ]
    },
    {
      "cell_type": "code",
      "execution_count": 6,
      "metadata": {
        "id": "d8vanlgAOlEj"
      },
      "outputs": [],
      "source": [
        "import os\n",
        "os.environ['PYTHONPATH'] += \":/content/MegaDetector\"\n",
        "os.environ['PYTHONPATH'] += \":/content/yolov5\""
      ]
    },
    {
      "cell_type": "markdown",
      "metadata": {
        "id": "3YZs9wT1sAgV"
      },
      "source": [
        "# Run the detection script\n",
        "\n",
        "There are actually two variants of MegaDetector v5, called \"v5a\" and \"v5b\".  By default this notebook runs MDv5a; change \"md_v5a.0.0.pt\" to \"md_v5b.0.0.pt\" to run MDv5b instead.\n",
        "\n",
        "Both run at the same speed; if you are in a Colab session with a GPU accelerator, you should be able to process around four images per second."
      ]
    },
    {
      "cell_type": "code",
      "execution_count": 7,
      "metadata": {
        "id": "3AOKfviGuTNg",
        "colab": {
          "base_uri": "https://localhost:8080/"
        },
        "outputId": "a01f69a3-f651-4618-bbd0-3a82a4b15d4a"
      },
      "outputs": [
        {
          "output_type": "stream",
          "name": "stdout",
          "text": [
            "21 image files found in the input directory\n",
            "PyTorch reports 1 available CUDA devices\n",
            "GPU available: True\n",
            "Using PyTorch version 2.0.1+cu118\n",
            "Fusing layers... \n",
            "Model summary: 574 layers, 139990096 parameters, 0 gradients\n",
            "Sending model to GPU\n",
            "Loaded model in 9.73 seconds\n",
            "Loaded model in 9.73 seconds\n",
            "100% 21/21 [00:07<00:00,  2.69it/s]\n",
            "Finished inference for 21 images in 19.12 seconds (1.10 images per second)\n",
            "Output file saved at /content/drive/MyDrive/Camaras Aspen/sample.json\n",
            "Done!\n"
          ]
        }
      ],
      "source": [
        "!python /content/MegaDetector/detection/run_detector_batch.py md_v5a.0.0.pt \"$images_dir\" \"$output_file_path\" --recursive --output_relative_filenames --quiet"
      ]
    },
    {
      "cell_type": "code",
      "source": [
        "import json\n",
        "import os\n",
        "import shutil\n",
        "\n",
        "def save_images_by_bbox_confidence(json_file, images_dir, confidence_threshold=0.2):\n",
        "    # Create folders if they don't exist\n",
        "    detections_dir = os.path.join(images_dir,\"detections\")\n",
        "    no_detections_dir = os.path.join(images_dir,\"no_detections\")\n",
        "    os.makedirs(detections_dir, exist_ok=True)\n",
        "    os.makedirs(no_detections_dir, exist_ok=True)\n",
        "\n",
        "    with open(json_file, 'r') as file:\n",
        "        data = json.load(file)\n",
        "\n",
        "        for image_data in data['images']:\n",
        "            image_path = os.path.basename(image_data['file'])\n",
        "\n",
        "            # Check if any bbox has confidence over the threshold\n",
        "            has_bbox_with_high_confidence = False\n",
        "            for bbox in image_data['detections']:\n",
        "                if bbox['category'] != '1': continue\n",
        "                if bbox['conf'] > confidence_threshold:\n",
        "                    has_bbox_with_high_confidence = True\n",
        "                    break\n",
        "\n",
        "            if has_bbox_with_high_confidence:\n",
        "                # Move image to folder with bbox\n",
        "                os.rename(os.path.join(images_dir, image_path), os.path.join(detections_dir, image_path))\n",
        "            else:\n",
        "                # Move image to folder without bbox\n",
        "                os.rename(os.path.join(images_dir, image_path), os.path.join(no_detections_dir, image_path))\n",
        "\n",
        "# Usage example\n",
        "save_images_by_bbox_confidence(output_file_path, images_dir, confidence_threshold)\n"
      ],
      "metadata": {
        "id": "nRDPMAD7GUbN"
      },
      "execution_count": 8,
      "outputs": []
    }
  ],
  "metadata": {
    "accelerator": "GPU",
    "colab": {
      "provenance": [],
      "gpuType": "T4",
      "include_colab_link": true
    },
    "kernelspec": {
      "display_name": "Python 3",
      "name": "python3"
    },
    "language_info": {
      "codemirror_mode": {
        "name": "ipython",
        "version": 3
      },
      "file_extension": ".py",
      "mimetype": "text/x-python",
      "name": "python",
      "nbconvert_exporter": "python",
      "pygments_lexer": "ipython3",
      "version": "3.9.7"
    }
  },
  "nbformat": 4,
  "nbformat_minor": 0
}